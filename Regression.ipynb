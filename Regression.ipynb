{
 "cells": [
  {
   "cell_type": "markdown",
   "metadata": {},
   "source": [
    "# MODELO DE REGRESIÓN"
   ]
  },
  {
   "cell_type": "markdown",
   "metadata": {},
   "source": [
    "## Importación de librerías y datos"
   ]
  },
  {
   "cell_type": "code",
   "execution_count": 1,
   "metadata": {},
   "outputs": [],
   "source": [
    "%matplotlib inline\n",
    "import pandas as pd\n",
    "import numpy as np\n",
    "import matplotlib.pyplot as plt\n",
    "import datetime\n",
    "import seaborn as sns\n",
    "from mpl_toolkits.mplot3d import Axes3D\n",
    "from matplotlib import cm\n",
    "plt.rcParams['figure.figsize'] = (16, 9)\n",
    "plt.style.use('ggplot')\n",
    "from sklearn import linear_model\n",
    "from sklearn.metrics import mean_squared_error, r2_score"
   ]
  },
  {
   "cell_type": "code",
   "execution_count": 2,
   "metadata": {},
   "outputs": [],
   "source": [
    "commentsDf = pd.read_excel(\"DataSets/comments_final.xlsx\", encoding='latin-1')"
   ]
  },
  {
   "cell_type": "code",
   "execution_count": 3,
   "metadata": {
    "scrolled": true
   },
   "outputs": [
    {
     "data": {
      "text/html": [
       "<div>\n",
       "<style scoped>\n",
       "    .dataframe tbody tr th:only-of-type {\n",
       "        vertical-align: middle;\n",
       "    }\n",
       "\n",
       "    .dataframe tbody tr th {\n",
       "        vertical-align: top;\n",
       "    }\n",
       "\n",
       "    .dataframe thead th {\n",
       "        text-align: right;\n",
       "    }\n",
       "</style>\n",
       "<table border=\"1\" class=\"dataframe\">\n",
       "  <thead>\n",
       "    <tr style=\"text-align: right;\">\n",
       "      <th></th>\n",
       "      <th>id</th>\n",
       "      <th>tipo</th>\n",
       "      <th>campus</th>\n",
       "      <th>id_programa</th>\n",
       "      <th>nps</th>\n",
       "      <th>programa</th>\n",
       "      <th>id_externo_programa</th>\n",
       "      <th>id_modulo</th>\n",
       "      <th>modulo</th>\n",
       "      <th>instructor</th>\n",
       "      <th>...</th>\n",
       "      <th>fecha_inicio_modulo</th>\n",
       "      <th>fecha_fin_modulo</th>\n",
       "      <th>indicador</th>\n",
       "      <th>codigo_indicador</th>\n",
       "      <th>comentario</th>\n",
       "      <th>puntaje_sentimiento</th>\n",
       "      <th>sentimiento</th>\n",
       "      <th>categoria</th>\n",
       "      <th>subcategoria</th>\n",
       "      <th>grupo</th>\n",
       "    </tr>\n",
       "  </thead>\n",
       "  <tbody>\n",
       "    <tr>\n",
       "      <th>0</th>\n",
       "      <td>1</td>\n",
       "      <td>B2B</td>\n",
       "      <td>CSF (Santa Fe)</td>\n",
       "      <td>3483</td>\n",
       "      <td>-50.0</td>\n",
       "      <td>Consultoría de Negocio</td>\n",
       "      <td>csf_c_0901B11353_2</td>\n",
       "      <td>60328</td>\n",
       "      <td>M16 G1: Mercados Financieros Nacionales e Inte...</td>\n",
       "      <td>Gerardo  Salazar  Viezca</td>\n",
       "      <td>...</td>\n",
       "      <td>2018-05-11</td>\n",
       "      <td>2018-06-01</td>\n",
       "      <td>Retroalimentación para el Instructor</td>\n",
       "      <td>CAINST</td>\n",
       "      <td>Que su curso lo haga mas dinámico, tiene una v...</td>\n",
       "      <td>-0.12</td>\n",
       "      <td>Negativo</td>\n",
       "      <td>Instructor</td>\n",
       "      <td>Dinamismo y Ejercicios</td>\n",
       "      <td>4</td>\n",
       "    </tr>\n",
       "    <tr>\n",
       "      <th>1</th>\n",
       "      <td>2</td>\n",
       "      <td>B2B</td>\n",
       "      <td>CSF (Santa Fe)</td>\n",
       "      <td>3483</td>\n",
       "      <td>-50.0</td>\n",
       "      <td>Consultoría de Negocio</td>\n",
       "      <td>csf_c_0901B11353_2</td>\n",
       "      <td>60328</td>\n",
       "      <td>M16 G1: Mercados Financieros Nacionales e Inte...</td>\n",
       "      <td>Gerardo  Salazar  Viezca</td>\n",
       "      <td>...</td>\n",
       "      <td>2018-05-11</td>\n",
       "      <td>2018-06-01</td>\n",
       "      <td>Retroalimentación para el Instructor</td>\n",
       "      <td>CAINST</td>\n",
       "      <td>El instructuor es muy bueno, conoce muy bien l...</td>\n",
       "      <td>0.46</td>\n",
       "      <td>Positivo</td>\n",
       "      <td>Instructor</td>\n",
       "      <td>Habilidad de Enseñanza</td>\n",
       "      <td>4</td>\n",
       "    </tr>\n",
       "    <tr>\n",
       "      <th>2</th>\n",
       "      <td>3</td>\n",
       "      <td>B2B</td>\n",
       "      <td>CSF (Santa Fe)</td>\n",
       "      <td>3483</td>\n",
       "      <td>-50.0</td>\n",
       "      <td>Consultoría de Negocio</td>\n",
       "      <td>csf_c_0901B11353_2</td>\n",
       "      <td>60328</td>\n",
       "      <td>M16 G1: Mercados Financieros Nacionales e Inte...</td>\n",
       "      <td>Gerardo  Salazar  Viezca</td>\n",
       "      <td>...</td>\n",
       "      <td>2018-05-11</td>\n",
       "      <td>2018-06-01</td>\n",
       "      <td>Retroalimentación para el Instructor</td>\n",
       "      <td>CAINST</td>\n",
       "      <td>Todo estuvo bien. Me gustarían ejercicios prác...</td>\n",
       "      <td>0.10</td>\n",
       "      <td>Neutral</td>\n",
       "      <td>Instructor</td>\n",
       "      <td>Dinamismo y Ejercicios</td>\n",
       "      <td>4</td>\n",
       "    </tr>\n",
       "    <tr>\n",
       "      <th>3</th>\n",
       "      <td>4</td>\n",
       "      <td>B2B</td>\n",
       "      <td>CSF (Santa Fe)</td>\n",
       "      <td>3483</td>\n",
       "      <td>-50.0</td>\n",
       "      <td>Consultoría de Negocio</td>\n",
       "      <td>csf_c_0901B11353_2</td>\n",
       "      <td>60328</td>\n",
       "      <td>M16 G1: Mercados Financieros Nacionales e Inte...</td>\n",
       "      <td>Gerardo  Salazar  Viezca</td>\n",
       "      <td>...</td>\n",
       "      <td>2018-05-11</td>\n",
       "      <td>2018-06-01</td>\n",
       "      <td>Retroalimentación para el Instructor</td>\n",
       "      <td>CAINST</td>\n",
       "      <td>La clase estuvo excelente, pero sería major si...</td>\n",
       "      <td>0.30</td>\n",
       "      <td>Positivo</td>\n",
       "      <td>Programa</td>\n",
       "      <td>Diseño y Estructura (Coherencia)</td>\n",
       "      <td>4</td>\n",
       "    </tr>\n",
       "    <tr>\n",
       "      <th>4</th>\n",
       "      <td>5</td>\n",
       "      <td>B2B</td>\n",
       "      <td>CSF (Santa Fe)</td>\n",
       "      <td>3483</td>\n",
       "      <td>-50.0</td>\n",
       "      <td>Consultoría de Negocio</td>\n",
       "      <td>csf_c_0901B11353_2</td>\n",
       "      <td>60328</td>\n",
       "      <td>M16 G1: Mercados Financieros Nacionales e Inte...</td>\n",
       "      <td>Gerardo  Salazar  Viezca</td>\n",
       "      <td>...</td>\n",
       "      <td>2018-05-11</td>\n",
       "      <td>2018-06-01</td>\n",
       "      <td>Retroalimentación para el Instructor</td>\n",
       "      <td>CAINST</td>\n",
       "      <td>Actividades más dinámicas durante el curso</td>\n",
       "      <td>0.22</td>\n",
       "      <td>Positivo</td>\n",
       "      <td>Instructor</td>\n",
       "      <td>Dinamismo y Ejercicios</td>\n",
       "      <td>4</td>\n",
       "    </tr>\n",
       "  </tbody>\n",
       "</table>\n",
       "<p>5 rows × 25 columns</p>\n",
       "</div>"
      ],
      "text/plain": [
       "   id tipo          campus  id_programa   nps                programa  \\\n",
       "0   1  B2B  CSF (Santa Fe)         3483 -50.0  Consultoría de Negocio   \n",
       "1   2  B2B  CSF (Santa Fe)         3483 -50.0  Consultoría de Negocio   \n",
       "2   3  B2B  CSF (Santa Fe)         3483 -50.0  Consultoría de Negocio   \n",
       "3   4  B2B  CSF (Santa Fe)         3483 -50.0  Consultoría de Negocio   \n",
       "4   5  B2B  CSF (Santa Fe)         3483 -50.0  Consultoría de Negocio   \n",
       "\n",
       "  id_externo_programa  id_modulo  \\\n",
       "0  csf_c_0901B11353_2      60328   \n",
       "1  csf_c_0901B11353_2      60328   \n",
       "2  csf_c_0901B11353_2      60328   \n",
       "3  csf_c_0901B11353_2      60328   \n",
       "4  csf_c_0901B11353_2      60328   \n",
       "\n",
       "                                              modulo  \\\n",
       "0  M16 G1: Mercados Financieros Nacionales e Inte...   \n",
       "1  M16 G1: Mercados Financieros Nacionales e Inte...   \n",
       "2  M16 G1: Mercados Financieros Nacionales e Inte...   \n",
       "3  M16 G1: Mercados Financieros Nacionales e Inte...   \n",
       "4  M16 G1: Mercados Financieros Nacionales e Inte...   \n",
       "\n",
       "                  instructor  ... fecha_inicio_modulo fecha_fin_modulo  \\\n",
       "0  Gerardo  Salazar  Viezca   ...          2018-05-11       2018-06-01   \n",
       "1  Gerardo  Salazar  Viezca   ...          2018-05-11       2018-06-01   \n",
       "2  Gerardo  Salazar  Viezca   ...          2018-05-11       2018-06-01   \n",
       "3  Gerardo  Salazar  Viezca   ...          2018-05-11       2018-06-01   \n",
       "4  Gerardo  Salazar  Viezca   ...          2018-05-11       2018-06-01   \n",
       "\n",
       "                              indicador codigo_indicador  \\\n",
       "0  Retroalimentación para el Instructor           CAINST   \n",
       "1  Retroalimentación para el Instructor           CAINST   \n",
       "2  Retroalimentación para el Instructor           CAINST   \n",
       "3  Retroalimentación para el Instructor           CAINST   \n",
       "4  Retroalimentación para el Instructor           CAINST   \n",
       "\n",
       "                                          comentario puntaje_sentimiento  \\\n",
       "0  Que su curso lo haga mas dinámico, tiene una v...               -0.12   \n",
       "1  El instructuor es muy bueno, conoce muy bien l...                0.46   \n",
       "2  Todo estuvo bien. Me gustarían ejercicios prác...                0.10   \n",
       "3  La clase estuvo excelente, pero sería major si...                0.30   \n",
       "4         Actividades más dinámicas durante el curso                0.22   \n",
       "\n",
       "  sentimiento   categoria                      subcategoria grupo  \n",
       "0    Negativo  Instructor            Dinamismo y Ejercicios     4  \n",
       "1    Positivo  Instructor            Habilidad de Enseñanza     4  \n",
       "2     Neutral  Instructor            Dinamismo y Ejercicios     4  \n",
       "3    Positivo    Programa  Diseño y Estructura (Coherencia)     4  \n",
       "4    Positivo  Instructor            Dinamismo y Ejercicios     4  \n",
       "\n",
       "[5 rows x 25 columns]"
      ]
     },
     "execution_count": 3,
     "metadata": {},
     "output_type": "execute_result"
    }
   ],
   "source": [
    "commentsDf.head()"
   ]
  },
  {
   "cell_type": "markdown",
   "metadata": {},
   "source": [
    "### Se agregan columnas de día, mes y año"
   ]
  },
  {
   "cell_type": "code",
   "execution_count": 5,
   "metadata": {},
   "outputs": [],
   "source": [
    "commentsDf['start_day'] = pd.DatetimeIndex(commentsDf['fecha_inicio_modulo']).day\n",
    "commentsDf['start_month'] = pd.DatetimeIndex(commentsDf['fecha_inicio_modulo']).month\n",
    "commentsDf['start_year'] = pd.DatetimeIndex(commentsDf['fecha_inicio_modulo']).year"
   ]
  },
  {
   "cell_type": "markdown",
   "metadata": {},
   "source": [
    "### Se obtiene el NPS por mes y año"
   ]
  },
  {
   "cell_type": "markdown",
   "metadata": {},
   "source": [
    "#### Al mostrar el NPS por año, encontramos que de enero a julio en el 2018 el NPS estuvo por debajo de 75 y a partir de agosto se ha mentenido por arriba de 80, al menos hasta el mes de marzo del 2019, en el que llegó hasta 90 y parece mostrar una tendencia a la alza."
   ]
  },
  {
   "cell_type": "code",
   "execution_count": 6,
   "metadata": {},
   "outputs": [
    {
     "data": {
      "text/html": [
       "<div>\n",
       "<style scoped>\n",
       "    .dataframe tbody tr th:only-of-type {\n",
       "        vertical-align: middle;\n",
       "    }\n",
       "\n",
       "    .dataframe tbody tr th {\n",
       "        vertical-align: top;\n",
       "    }\n",
       "\n",
       "    .dataframe thead th {\n",
       "        text-align: right;\n",
       "    }\n",
       "</style>\n",
       "<table border=\"1\" class=\"dataframe\">\n",
       "  <thead>\n",
       "    <tr style=\"text-align: right;\">\n",
       "      <th></th>\n",
       "      <th></th>\n",
       "      <th>nps</th>\n",
       "    </tr>\n",
       "    <tr>\n",
       "      <th>start_year</th>\n",
       "      <th>start_month</th>\n",
       "      <th></th>\n",
       "    </tr>\n",
       "  </thead>\n",
       "  <tbody>\n",
       "    <tr>\n",
       "      <th rowspan=\"2\" valign=\"top\">2017</th>\n",
       "      <th>11</th>\n",
       "      <td>76.000000</td>\n",
       "    </tr>\n",
       "    <tr>\n",
       "      <th>12</th>\n",
       "      <td>74.210000</td>\n",
       "    </tr>\n",
       "    <tr>\n",
       "      <th rowspan=\"12\" valign=\"top\">2018</th>\n",
       "      <th>1</th>\n",
       "      <td>66.711775</td>\n",
       "    </tr>\n",
       "    <tr>\n",
       "      <th>2</th>\n",
       "      <td>66.646169</td>\n",
       "    </tr>\n",
       "    <tr>\n",
       "      <th>3</th>\n",
       "      <td>70.530493</td>\n",
       "    </tr>\n",
       "    <tr>\n",
       "      <th>4</th>\n",
       "      <td>72.314089</td>\n",
       "    </tr>\n",
       "    <tr>\n",
       "      <th>5</th>\n",
       "      <td>75.394792</td>\n",
       "    </tr>\n",
       "    <tr>\n",
       "      <th>6</th>\n",
       "      <td>76.829931</td>\n",
       "    </tr>\n",
       "    <tr>\n",
       "      <th>7</th>\n",
       "      <td>79.813980</td>\n",
       "    </tr>\n",
       "    <tr>\n",
       "      <th>8</th>\n",
       "      <td>83.559746</td>\n",
       "    </tr>\n",
       "    <tr>\n",
       "      <th>9</th>\n",
       "      <td>81.923239</td>\n",
       "    </tr>\n",
       "    <tr>\n",
       "      <th>10</th>\n",
       "      <td>85.150396</td>\n",
       "    </tr>\n",
       "    <tr>\n",
       "      <th>11</th>\n",
       "      <td>83.708701</td>\n",
       "    </tr>\n",
       "    <tr>\n",
       "      <th>12</th>\n",
       "      <td>84.178310</td>\n",
       "    </tr>\n",
       "    <tr>\n",
       "      <th rowspan=\"3\" valign=\"top\">2019</th>\n",
       "      <th>1</th>\n",
       "      <td>82.045927</td>\n",
       "    </tr>\n",
       "    <tr>\n",
       "      <th>2</th>\n",
       "      <td>81.026520</td>\n",
       "    </tr>\n",
       "    <tr>\n",
       "      <th>3</th>\n",
       "      <td>90.000000</td>\n",
       "    </tr>\n",
       "  </tbody>\n",
       "</table>\n",
       "</div>"
      ],
      "text/plain": [
       "                              nps\n",
       "start_year start_month           \n",
       "2017       11           76.000000\n",
       "           12           74.210000\n",
       "2018       1            66.711775\n",
       "           2            66.646169\n",
       "           3            70.530493\n",
       "           4            72.314089\n",
       "           5            75.394792\n",
       "           6            76.829931\n",
       "           7            79.813980\n",
       "           8            83.559746\n",
       "           9            81.923239\n",
       "           10           85.150396\n",
       "           11           83.708701\n",
       "           12           84.178310\n",
       "2019       1            82.045927\n",
       "           2            81.026520\n",
       "           3            90.000000"
      ]
     },
     "execution_count": 6,
     "metadata": {},
     "output_type": "execute_result"
    }
   ],
   "source": [
    "npsMonth = commentsDf[['start_month','start_year','nps']].sort_values('start_year').groupby(['start_year','start_month']).mean().dropna()\n",
    "npsMonth"
   ]
  },
  {
   "cell_type": "markdown",
   "metadata": {},
   "source": [
    "### Lo mostramos en un Scatter Plot"
   ]
  },
  {
   "cell_type": "markdown",
   "metadata": {},
   "source": [
    "#### En la gráfica podemos observar el NPS en cada mes sin importar el año y vemos como en los tres primeros meses hay una diferencia notable de más de 10 puntos, que nos habla de los inicios de 2019 en comparación con los de 2018."
   ]
  },
  {
   "cell_type": "markdown",
   "metadata": {},
   "source": [
    "#### Sin tomar en cuenta los valores atípicos podemos observar una línea de tendencia a la alza conforme avanzan los meses durante el año."
   ]
  },
  {
   "cell_type": "code",
   "execution_count": 9,
   "metadata": {},
   "outputs": [
    {
     "data": {
      "text/plain": [
       "<matplotlib.collections.PathCollection at 0x27a565f26a0>"
      ]
     },
     "execution_count": 9,
     "metadata": {},
     "output_type": "execute_result"
    },
    {
     "data": {
      "image/png": "[encoded data removed]",
      "text/plain": [
       "<Figure size 432x288 with 1 Axes>"
      ]
     },
     "metadata": {
      "needs_background": "light"
     },
     "output_type": "display_data"
    }
   ],
   "source": [
    "plt.scatter(years['start_month'],npsMonth['nps'])"
   ]
  },
  {
   "cell_type": "markdown",
   "metadata": {},
   "source": [
    "### Algoritmo de regresión lineal"
   ]
  },
  {
   "cell_type": "markdown",
   "metadata": {},
   "source": [
    "#### Al final del algoritmo obtenemos la R^2, que nos habla de la confiabilidad de nuestro modelo\n",
    "#### En este caso la R^2 es de 0.88, es decir, que la calidad del modelo nos puede explicar en un 88% la variación de los datos"
   ]
  },
  {
   "cell_type": "code",
   "execution_count": 11,
   "metadata": {
    "scrolled": true
   },
   "outputs": [
    {
     "data": {
      "text/plain": [
       "<matplotlib.axes._subplots.AxesSubplot at 0x27a56de55c0>"
      ]
     },
     "execution_count": 11,
     "metadata": {},
     "output_type": "execute_result"
    },
    {
     "data": {
      "image/png": "[encoded data removed]",
      "text/plain": [
       "<Figure size 720x576 with 1 Axes>"
      ]
     },
     "metadata": {
      "needs_background": "light"
     },
     "output_type": "display_data"
    }
   ],
   "source": [
    "plt.figure(figsize=(10,8))\n",
    "sns.regplot(y=npsMonth['nps'], x=years['start_month'], fit_reg = True)"
   ]
  },
  {
   "cell_type": "code",
   "execution_count": 8,
   "metadata": {},
   "outputs": [],
   "source": [
    "years = commentsDf[['start_year','start_month']].drop_duplicates().sort_values(['start_year','start_month'])\n",
    "\n",
    "years = years.iloc[3:,]\n"
   ]
  },
  {
   "cell_type": "code",
   "execution_count": 7,
   "metadata": {},
   "outputs": [
    {
     "name": "stdout",
     "output_type": "stream",
     "text": [
      "Coefficients: \n",
      " [13.75061336  1.85968178]\n",
      "Independent term: \n",
      " -27683.013784181177\n",
      "Mean squared error: 4.96\n",
      "R2 score: 0.88\n"
     ]
    }
   ],
   "source": [
    "dataX = years\n",
    "X_train = np.array(dataX)\n",
    "y_train = npsMonth['nps'].values\n",
    "\n",
    "regr = linear_model.LinearRegression()\n",
    "regr.fit(X_train, y_train)\n",
    "\n",
    "y_pred = regr.predict(X_train)\n",
    "\n",
    "# Veamos los coeficienetes obtenidos, En nuestro caso, serán la Tangente\n",
    "print('Coefficients: \\n', regr.coef_)\n",
    "# Este es el valor donde corta el eje Y (en X=0)\n",
    "print('Independent term: \\n', regr.intercept_)\n",
    "# Error Cuadrado Medio\n",
    "print(\"Mean squared error: %.2f\" % mean_squared_error(y_train, y_pred))\n",
    "# Puntaje de Varianza. El mejor puntaje es un 1.0\n",
    "print('R2 score: %.2f' % r2_score(y_train, y_pred))\n"
   ]
  },
  {
   "cell_type": "markdown",
   "metadata": {},
   "source": [
    "### Una vez que tenemos los coeficientes y el modelo podemos predecir para los meses restantes del 2019"
   ]
  },
  {
   "cell_type": "markdown",
   "metadata": {},
   "source": [
    "*  Hacemos el cálculo para cada mes a través de un loop y lo almacenamos en una estructura de datos, en este caso una lista.\n",
    "*  Luego lo insertamos en un dataframe y podemos visualizarlo de forma tabular"
   ]
  },
  {
   "cell_type": "code",
   "execution_count": 56,
   "metadata": {},
   "outputs": [
    {
     "name": "stdout",
     "output_type": "stream",
     "text": [
      "[4, 5, 6, 7, 8, 9, 10, 11, 12]\n",
      "[86.91331135107612, 88.77299312800824, 90.632674904944, 92.49235668187612, 94.35203845880824, 96.21172023574036, 98.07140201267248, 99.9310837896046, 101.79076556653672]\n"
     ]
    }
   ],
   "source": [
    "\n",
    "\n",
    "predictedNPS = []\n",
    "nextMonths = []\n",
    "prediction = pd.DataFrame()\n",
    "prediction['start_year'] = 2019\n",
    "for i in range(4, 13):\n",
    "    nextMonth = regr.predict([[2019,i]])\n",
    "    nextMonths.append(i)\n",
    "    predictedNPS.append(nextMonth[0])\n",
    "print(nextMonths)\n",
    "print(predictedNPS)\n",
    "prediction['start_month'] = nextMonths\n",
    "prediction['nps'] = predictedNPS\n",
    "prediction['start_year'] = 2019\n",
    "\n",
    "\n",
    "\n",
    "\n"
   ]
  },
  {
   "cell_type": "markdown",
   "metadata": {},
   "source": [
    "### Predicción para los siguientes meses del 2019"
   ]
  },
  {
   "cell_type": "markdown",
   "metadata": {},
   "source": [
    "#### Al obtener la predicción para los siguientes meses del 2019, podemos decir que de seguir trabajando como se venía haciendo en los últimos meses del 2018, el NPS se vería beneficiado teniendo valores cada vez más altos conforme avanza el tiempo "
   ]
  },
  {
   "cell_type": "code",
   "execution_count": 57,
   "metadata": {},
   "outputs": [
    {
     "data": {
      "text/html": [
       "<div>\n",
       "<style scoped>\n",
       "    .dataframe tbody tr th:only-of-type {\n",
       "        vertical-align: middle;\n",
       "    }\n",
       "\n",
       "    .dataframe tbody tr th {\n",
       "        vertical-align: top;\n",
       "    }\n",
       "\n",
       "    .dataframe thead th {\n",
       "        text-align: right;\n",
       "    }\n",
       "</style>\n",
       "<table border=\"1\" class=\"dataframe\">\n",
       "  <thead>\n",
       "    <tr style=\"text-align: right;\">\n",
       "      <th></th>\n",
       "      <th>start_year</th>\n",
       "      <th>start_month</th>\n",
       "      <th>nps</th>\n",
       "    </tr>\n",
       "  </thead>\n",
       "  <tbody>\n",
       "    <tr>\n",
       "      <th>0</th>\n",
       "      <td>2019</td>\n",
       "      <td>4</td>\n",
       "      <td>86.913311</td>\n",
       "    </tr>\n",
       "    <tr>\n",
       "      <th>1</th>\n",
       "      <td>2019</td>\n",
       "      <td>5</td>\n",
       "      <td>88.772993</td>\n",
       "    </tr>\n",
       "    <tr>\n",
       "      <th>2</th>\n",
       "      <td>2019</td>\n",
       "      <td>6</td>\n",
       "      <td>90.632675</td>\n",
       "    </tr>\n",
       "    <tr>\n",
       "      <th>3</th>\n",
       "      <td>2019</td>\n",
       "      <td>7</td>\n",
       "      <td>92.492357</td>\n",
       "    </tr>\n",
       "    <tr>\n",
       "      <th>4</th>\n",
       "      <td>2019</td>\n",
       "      <td>8</td>\n",
       "      <td>94.352038</td>\n",
       "    </tr>\n",
       "    <tr>\n",
       "      <th>5</th>\n",
       "      <td>2019</td>\n",
       "      <td>9</td>\n",
       "      <td>96.211720</td>\n",
       "    </tr>\n",
       "    <tr>\n",
       "      <th>6</th>\n",
       "      <td>2019</td>\n",
       "      <td>10</td>\n",
       "      <td>98.071402</td>\n",
       "    </tr>\n",
       "    <tr>\n",
       "      <th>7</th>\n",
       "      <td>2019</td>\n",
       "      <td>11</td>\n",
       "      <td>99.931084</td>\n",
       "    </tr>\n",
       "    <tr>\n",
       "      <th>8</th>\n",
       "      <td>2019</td>\n",
       "      <td>12</td>\n",
       "      <td>101.790766</td>\n",
       "    </tr>\n",
       "  </tbody>\n",
       "</table>\n",
       "</div>"
      ],
      "text/plain": [
       "   start_year  start_month         nps\n",
       "0        2019            4   86.913311\n",
       "1        2019            5   88.772993\n",
       "2        2019            6   90.632675\n",
       "3        2019            7   92.492357\n",
       "4        2019            8   94.352038\n",
       "5        2019            9   96.211720\n",
       "6        2019           10   98.071402\n",
       "7        2019           11   99.931084\n",
       "8        2019           12  101.790766"
      ]
     },
     "execution_count": 57,
     "metadata": {},
     "output_type": "execute_result"
    }
   ],
   "source": [
    "prediction"
   ]
  }
 ],
 "metadata": {
  "kernelspec": {
   "display_name": "Python 3",
   "language": "python",
   "name": "python3"
  },
  "language_info": {
   "codemirror_mode": {
    "name": "ipython",
    "version": 3
   },
   "file_extension": ".py",
   "mimetype": "text/x-python",
   "name": "python",
   "nbconvert_exporter": "python",
   "pygments_lexer": "ipython3",
   "version": "3.6.8"
  }
 },
 "nbformat": 4,
 "nbformat_minor": 2
}
